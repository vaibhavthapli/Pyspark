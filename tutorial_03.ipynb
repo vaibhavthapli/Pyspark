{
 "cells": [
  {
   "cell_type": "markdown",
   "id": "2c0ec7f6-fa11-4c84-a632-ea54105f7e29",
   "metadata": {},
   "source": [
    "## Pyspark Handling Missing Values\n",
    "- Dropping Columns\n",
    "- Dropping Rows\n",
    "- Various Parameter in Dropping functionalities\n",
    "- Handling Missing values by Mean, Median, Mode\n"
   ]
  },
  {
   "cell_type": "code",
   "execution_count": 4,
   "id": "29723d99-d1f3-4dd0-93b1-f48a68f943a7",
   "metadata": {},
   "outputs": [],
   "source": [
    "from pyspark.sql import SparkSession\n",
    "spark = SparkSession.builder.appName('Practise').getOrCreate()"
   ]
  },
  {
   "cell_type": "code",
   "execution_count": 5,
   "id": "f74d2ae7-9732-4673-b433-22278ded864b",
   "metadata": {},
   "outputs": [
    {
     "data": {
      "text/html": [
       "\n",
       "            <div>\n",
       "                <p><b>SparkSession - in-memory</b></p>\n",
       "                \n",
       "        <div>\n",
       "            <p><b>SparkContext</b></p>\n",
       "\n",
       "            <p><a href=\"http://192.168.1.5:4042\">Spark UI</a></p>\n",
       "\n",
       "            <dl>\n",
       "              <dt>Version</dt>\n",
       "                <dd><code>v3.5.1</code></dd>\n",
       "              <dt>Master</dt>\n",
       "                <dd><code>local[*]</code></dd>\n",
       "              <dt>AppName</dt>\n",
       "                <dd><code>Practise</code></dd>\n",
       "            </dl>\n",
       "        </div>\n",
       "        \n",
       "            </div>\n",
       "        "
      ],
      "text/plain": [
       "<pyspark.sql.session.SparkSession at 0x1c6314b7a30>"
      ]
     },
     "execution_count": 5,
     "metadata": {},
     "output_type": "execute_result"
    }
   ],
   "source": [
    "spark"
   ]
  },
  {
   "cell_type": "code",
   "execution_count": 6,
   "id": "891ab678-55fa-4931-8ae6-21e7af7ea3f3",
   "metadata": {},
   "outputs": [],
   "source": [
    "#read csv\n",
    "df = spark.read.csv('test2.csv',header=True,inferSchema=True)"
   ]
  },
  {
   "cell_type": "code",
   "execution_count": 7,
   "id": "6f31a21a-632e-4233-838e-59b4687e960a",
   "metadata": {},
   "outputs": [
    {
     "name": "stdout",
     "output_type": "stream",
     "text": [
      "+-------+----+----------+------+\n",
      "|   Name| Age|Experience|Salary|\n",
      "+-------+----+----------+------+\n",
      "|Vaibhav|  26|         3| 30000|\n",
      "|  Sunny|  30|         4| 35000|\n",
      "|  Rohit|  25|         8| 50000|\n",
      "|   Paul|  24|         2| 20000|\n",
      "| Harsha|  21|         1| 15000|\n",
      "|Shubham|  23|         2| 18000|\n",
      "| Mahesh|NULL|      NULL| 40000|\n",
      "|   NULL|  34|        10| 38000|\n",
      "|   NULL|  36|      NULL|  NULL|\n",
      "+-------+----+----------+------+\n",
      "\n"
     ]
    }
   ],
   "source": [
    "df.show()"
   ]
  },
  {
   "cell_type": "code",
   "execution_count": 8,
   "id": "6e586208-16f7-461f-ae86-d69745c4f891",
   "metadata": {},
   "outputs": [
    {
     "name": "stdout",
     "output_type": "stream",
     "text": [
      "+----+----------+------+\n",
      "| Age|Experience|Salary|\n",
      "+----+----------+------+\n",
      "|  26|         3| 30000|\n",
      "|  30|         4| 35000|\n",
      "|  25|         8| 50000|\n",
      "|  24|         2| 20000|\n",
      "|  21|         1| 15000|\n",
      "|  23|         2| 18000|\n",
      "|NULL|      NULL| 40000|\n",
      "|  34|        10| 38000|\n",
      "|  36|      NULL|  NULL|\n",
      "+----+----------+------+\n",
      "\n"
     ]
    }
   ],
   "source": [
    "## drop the column\n",
    "df.drop('Name').show()"
   ]
  },
  {
   "cell_type": "code",
   "execution_count": 10,
   "id": "92697086-63e0-4af1-aa15-b95640d2f2a5",
   "metadata": {},
   "outputs": [
    {
     "name": "stdout",
     "output_type": "stream",
     "text": [
      "+-------+---+----------+------+\n",
      "|   Name|Age|Experience|Salary|\n",
      "+-------+---+----------+------+\n",
      "|Vaibhav| 26|         3| 30000|\n",
      "|  Sunny| 30|         4| 35000|\n",
      "|  Rohit| 25|         8| 50000|\n",
      "|   Paul| 24|         2| 20000|\n",
      "| Harsha| 21|         1| 15000|\n",
      "|Shubham| 23|         2| 18000|\n",
      "+-------+---+----------+------+\n",
      "\n"
     ]
    }
   ],
   "source": [
    "#drop Null values\n",
    "df.na.drop().show()"
   ]
  },
  {
   "cell_type": "code",
   "execution_count": 11,
   "id": "ddad06cb-6c22-4581-aa3e-194d4369a1a5",
   "metadata": {},
   "outputs": [
    {
     "name": "stdout",
     "output_type": "stream",
     "text": [
      "+-------+----+----------+------+\n",
      "|   Name| Age|Experience|Salary|\n",
      "+-------+----+----------+------+\n",
      "|Vaibhav|  26|         3| 30000|\n",
      "|  Sunny|  30|         4| 35000|\n",
      "|  Rohit|  25|         8| 50000|\n",
      "|   Paul|  24|         2| 20000|\n",
      "| Harsha|  21|         1| 15000|\n",
      "|Shubham|  23|         2| 18000|\n",
      "| Mahesh|NULL|      NULL| 40000|\n",
      "|   NULL|  34|        10| 38000|\n",
      "|   NULL|  36|      NULL|  NULL|\n",
      "+-------+----+----------+------+\n",
      "\n"
     ]
    }
   ],
   "source": [
    "## any==how\n",
    "df.na.drop(how=\"all\").show()"
   ]
  },
  {
   "cell_type": "code",
   "execution_count": 12,
   "id": "e5ee48c8-804c-4ea7-9dbc-7f8ae5430a6a",
   "metadata": {},
   "outputs": [
    {
     "name": "stdout",
     "output_type": "stream",
     "text": [
      "+-------+---+----------+------+\n",
      "|   Name|Age|Experience|Salary|\n",
      "+-------+---+----------+------+\n",
      "|Vaibhav| 26|         3| 30000|\n",
      "|  Sunny| 30|         4| 35000|\n",
      "|  Rohit| 25|         8| 50000|\n",
      "|   Paul| 24|         2| 20000|\n",
      "| Harsha| 21|         1| 15000|\n",
      "|Shubham| 23|         2| 18000|\n",
      "+-------+---+----------+------+\n",
      "\n"
     ]
    }
   ],
   "source": [
    "df.na.drop(how=\"any\").show()"
   ]
  },
  {
   "cell_type": "code",
   "execution_count": 13,
   "id": "d88355ba-eeb4-45f7-9c2b-1519b31822d9",
   "metadata": {},
   "outputs": [
    {
     "name": "stdout",
     "output_type": "stream",
     "text": [
      "+-------+----+----------+------+\n",
      "|   Name| Age|Experience|Salary|\n",
      "+-------+----+----------+------+\n",
      "|Vaibhav|  26|         3| 30000|\n",
      "|  Sunny|  30|         4| 35000|\n",
      "|  Rohit|  25|         8| 50000|\n",
      "|   Paul|  24|         2| 20000|\n",
      "| Harsha|  21|         1| 15000|\n",
      "|Shubham|  23|         2| 18000|\n",
      "| Mahesh|NULL|      NULL| 40000|\n",
      "|   NULL|  34|        10| 38000|\n",
      "+-------+----+----------+------+\n",
      "\n"
     ]
    }
   ],
   "source": [
    "##threshold(atleast 2 nonnull)\n",
    "df.na.drop(how=\"any\",thresh=2).show()"
   ]
  },
  {
   "cell_type": "code",
   "execution_count": 14,
   "id": "8c356fa8-7cba-4f01-99de-458d0c1b201a",
   "metadata": {},
   "outputs": [
    {
     "name": "stdout",
     "output_type": "stream",
     "text": [
      "+-------+---+----------+------+\n",
      "|   Name|Age|Experience|Salary|\n",
      "+-------+---+----------+------+\n",
      "|Vaibhav| 26|         3| 30000|\n",
      "|  Sunny| 30|         4| 35000|\n",
      "|  Rohit| 25|         8| 50000|\n",
      "|   Paul| 24|         2| 20000|\n",
      "| Harsha| 21|         1| 15000|\n",
      "|Shubham| 23|         2| 18000|\n",
      "|   NULL| 34|        10| 38000|\n",
      "+-------+---+----------+------+\n",
      "\n"
     ]
    }
   ],
   "source": [
    "#subset\n",
    "df.na.drop(how=\"any\",subset=[\"Experience\"]).show()"
   ]
  },
  {
   "cell_type": "code",
   "execution_count": 17,
   "id": "053fac6d-ee0f-408c-a5c6-d3539f4878b4",
   "metadata": {},
   "outputs": [
    {
     "name": "stdout",
     "output_type": "stream",
     "text": [
      "+-------+----+----------+------+\n",
      "|   Name| Age|Experience|Salary|\n",
      "+-------+----+----------+------+\n",
      "|Vaibhav|  26|         3| 30000|\n",
      "|  Sunny|  30|         4| 35000|\n",
      "|  Rohit|  25|         8| 50000|\n",
      "|   Paul|  24|         2| 20000|\n",
      "| Harsha|  21|         1| 15000|\n",
      "|Shubham|  23|         2| 18000|\n",
      "| Mahesh|NULL|      NULL| 40000|\n",
      "|   NULL|  34|        10| 38000|\n",
      "|   NULL|  36|      NULL|  NULL|\n",
      "+-------+----+----------+------+\n",
      "\n"
     ]
    }
   ],
   "source": [
    "df.show()"
   ]
  },
  {
   "cell_type": "code",
   "execution_count": 19,
   "id": "0110d782-4434-47a7-a5e1-11509e40730f",
   "metadata": {},
   "outputs": [
    {
     "name": "stdout",
     "output_type": "stream",
     "text": [
      "+--------------+----+----------+------+\n",
      "|          Name| Age|Experience|Salary|\n",
      "+--------------+----+----------+------+\n",
      "|       Vaibhav|  26|         3| 30000|\n",
      "|         Sunny|  30|         4| 35000|\n",
      "|         Rohit|  25|         8| 50000|\n",
      "|          Paul|  24|         2| 20000|\n",
      "|        Harsha|  21|         1| 15000|\n",
      "|       Shubham|  23|         2| 18000|\n",
      "|        Mahesh|NULL|      NULL| 40000|\n",
      "|Missing Values|  34|        10| 38000|\n",
      "|Missing Values|  36|      NULL|  NULL|\n",
      "+--------------+----+----------+------+\n",
      "\n"
     ]
    }
   ],
   "source": [
    "#filling Null vlues\n",
    "df.na.fill(\"Missing Values\").show()"
   ]
  },
  {
   "cell_type": "code",
   "execution_count": 20,
   "id": "47896d8e-9c4d-43cb-9a89-c31f791ad572",
   "metadata": {},
   "outputs": [
    {
     "name": "stdout",
     "output_type": "stream",
     "text": [
      "+-------+---+----------+------+\n",
      "|   Name|Age|Experience|Salary|\n",
      "+-------+---+----------+------+\n",
      "|Vaibhav| 26|         3| 30000|\n",
      "|  Sunny| 30|         4| 35000|\n",
      "|  Rohit| 25|         8| 50000|\n",
      "|   Paul| 24|         2| 20000|\n",
      "| Harsha| 21|         1| 15000|\n",
      "|Shubham| 23|         2| 18000|\n",
      "| Mahesh|  0|         0| 40000|\n",
      "|   NULL| 34|        10| 38000|\n",
      "|   NULL| 36|         0|     0|\n",
      "+-------+---+----------+------+\n",
      "\n"
     ]
    }
   ],
   "source": [
    "df.na.fill(value=0).show()"
   ]
  },
  {
   "cell_type": "code",
   "execution_count": 21,
   "id": "66331320-a48e-4490-bb66-2428dcc03434",
   "metadata": {},
   "outputs": [
    {
     "name": "stdout",
     "output_type": "stream",
     "text": [
      "+-------+----+----------+------+\n",
      "|   Name| Age|Experience|Salary|\n",
      "+-------+----+----------+------+\n",
      "|Vaibhav|  26|         3| 30000|\n",
      "|  Sunny|  30|         4| 35000|\n",
      "|  Rohit|  25|         8| 50000|\n",
      "|   Paul|  24|         2| 20000|\n",
      "| Harsha|  21|         1| 15000|\n",
      "|Shubham|  23|         2| 18000|\n",
      "| Mahesh|NULL|      NULL| 40000|\n",
      "|   NULL|  34|        10| 38000|\n",
      "|   NULL|  36|      NULL|  NULL|\n",
      "+-------+----+----------+------+\n",
      "\n"
     ]
    }
   ],
   "source": [
    "df.show()"
   ]
  },
  {
   "cell_type": "code",
   "execution_count": 25,
   "id": "df7fedc6-86fd-456e-888f-8fe98291ad6b",
   "metadata": {},
   "outputs": [],
   "source": [
    "#imputer (to fill NULL values)\n",
    "from pyspark.ml.feature import Imputer\n",
    "\n",
    "imputer = Imputer(\n",
    "    inputCols=[\"Age\",\"Experience\",\"Salary\"],\n",
    "    outputCols=[\"{}_imputed\".format(c) for c in ['Age', 'Experience', 'Salary']]\n",
    ").setStrategy(\"mean\")"
   ]
  },
  {
   "cell_type": "code",
   "execution_count": 26,
   "id": "85b6e033-9f71-4a60-803b-d349bf422729",
   "metadata": {},
   "outputs": [
    {
     "name": "stdout",
     "output_type": "stream",
     "text": [
      "+-------+----+----------+------+-----------+------------------+--------------+\n",
      "|   Name| Age|Experience|Salary|Age_imputed|Experience_imputed|Salary_imputed|\n",
      "+-------+----+----------+------+-----------+------------------+--------------+\n",
      "|Vaibhav|  26|         3| 30000|         26|                 3|         30000|\n",
      "|  Sunny|  30|         4| 35000|         30|                 4|         35000|\n",
      "|  Rohit|  25|         8| 50000|         25|                 8|         50000|\n",
      "|   Paul|  24|         2| 20000|         24|                 2|         20000|\n",
      "| Harsha|  21|         1| 15000|         21|                 1|         15000|\n",
      "|Shubham|  23|         2| 18000|         23|                 2|         18000|\n",
      "| Mahesh|NULL|      NULL| 40000|         27|                 4|         40000|\n",
      "|   NULL|  34|        10| 38000|         34|                10|         38000|\n",
      "|   NULL|  36|      NULL|  NULL|         36|                 4|         30750|\n",
      "+-------+----+----------+------+-----------+------------------+--------------+\n",
      "\n"
     ]
    }
   ],
   "source": [
    "imputer.fit(df).transform(df).show()"
   ]
  },
  {
   "cell_type": "code",
   "execution_count": null,
   "id": "7c63159c-1f02-4baf-b307-d9cc10b62aee",
   "metadata": {},
   "outputs": [],
   "source": []
  }
 ],
 "metadata": {
  "kernelspec": {
   "display_name": "bg",
   "language": "python",
   "name": "bg"
  },
  "language_info": {
   "codemirror_mode": {
    "name": "ipython",
    "version": 3
   },
   "file_extension": ".py",
   "mimetype": "text/x-python",
   "name": "python",
   "nbconvert_exporter": "python",
   "pygments_lexer": "ipython3",
   "version": "3.10.0"
  }
 },
 "nbformat": 4,
 "nbformat_minor": 5
}
