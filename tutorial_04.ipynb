{
 "cells": [
  {
   "cell_type": "markdown",
   "id": "6ec07eeb-375d-4f08-9295-71b7aa4206a4",
   "metadata": {},
   "source": [
    "# Pyspark Dataframes  (filter operation)\n",
    "\n",
    "- Filter Operation\n",
    "- &,|,==\n",
    "- ~"
   ]
  },
  {
   "cell_type": "code",
   "execution_count": 1,
   "id": "4ef0f3fa-7467-41a5-a595-f55eead05abf",
   "metadata": {},
   "outputs": [],
   "source": [
    "from pyspark.sql import SparkSession"
   ]
  },
  {
   "cell_type": "code",
   "execution_count": 2,
   "id": "d4f39245-c207-4846-8c9f-2499753c44a7",
   "metadata": {},
   "outputs": [],
   "source": [
    "spark = SparkSession.builder.appName('dataframe').getOrCreate()"
   ]
  },
  {
   "cell_type": "code",
   "execution_count": 3,
   "id": "c5d22b4d-ee31-4afa-b92a-cf784d934b2a",
   "metadata": {},
   "outputs": [
    {
     "data": {
      "text/html": [
       "\n",
       "            <div>\n",
       "                <p><b>SparkSession - in-memory</b></p>\n",
       "                \n",
       "        <div>\n",
       "            <p><b>SparkContext</b></p>\n",
       "\n",
       "            <p><a href=\"http://192.168.1.5:4043\">Spark UI</a></p>\n",
       "\n",
       "            <dl>\n",
       "              <dt>Version</dt>\n",
       "                <dd><code>v3.5.1</code></dd>\n",
       "              <dt>Master</dt>\n",
       "                <dd><code>local[*]</code></dd>\n",
       "              <dt>AppName</dt>\n",
       "                <dd><code>dataframe</code></dd>\n",
       "            </dl>\n",
       "        </div>\n",
       "        \n",
       "            </div>\n",
       "        "
      ],
      "text/plain": [
       "<pyspark.sql.session.SparkSession at 0x18d75b6ba00>"
      ]
     },
     "execution_count": 3,
     "metadata": {},
     "output_type": "execute_result"
    }
   ],
   "source": [
    "spark"
   ]
  },
  {
   "cell_type": "code",
   "execution_count": 4,
   "id": "259b3802-0027-4fd9-a8fc-4b1b594c007f",
   "metadata": {},
   "outputs": [
    {
     "name": "stdout",
     "output_type": "stream",
     "text": [
      "+-------+---+----------+------+\n",
      "|   Name|Age|Experience|Salary|\n",
      "+-------+---+----------+------+\n",
      "|Vaibhav| 26|         3| 15000|\n",
      "|  Krish| 31|         4| 20000|\n",
      "|   Suny| 29|         5| 30000|\n",
      "| Rohit | 24|         1| 10000|\n",
      "| Arpit | 23|         1| 10000|\n",
      "|Twinken| 23|         2| 15000|\n",
      "|  Harsh| 21|         1| 14000|\n",
      "+-------+---+----------+------+\n",
      "\n"
     ]
    }
   ],
   "source": [
    "df = spark.read.csv('test1.csv',header=True, inferSchema = True)\n",
    "df.show()"
   ]
  },
  {
   "cell_type": "markdown",
   "id": "61bc4b4a-8584-4d05-934e-fabb5031f7cb",
   "metadata": {},
   "source": [
    "# filter operation\n"
   ]
  },
  {
   "cell_type": "code",
   "execution_count": 5,
   "id": "f69ca2dd-7a5c-46a3-bec1-32a9142d9d54",
   "metadata": {},
   "outputs": [
    {
     "name": "stdout",
     "output_type": "stream",
     "text": [
      "+-------+---+----------+------+\n",
      "|   Name|Age|Experience|Salary|\n",
      "+-------+---+----------+------+\n",
      "|Vaibhav| 26|         3| 15000|\n",
      "|  Krish| 31|         4| 20000|\n",
      "| Rohit | 24|         1| 10000|\n",
      "| Arpit | 23|         1| 10000|\n",
      "|Twinken| 23|         2| 15000|\n",
      "|  Harsh| 21|         1| 14000|\n",
      "+-------+---+----------+------+\n",
      "\n"
     ]
    }
   ],
   "source": [
    "### Salary of the people less than or equal to 20000\n",
    "df.filter('Salary<=20000').show()"
   ]
  },
  {
   "cell_type": "code",
   "execution_count": 6,
   "id": "06ee881a-0d1d-4ddf-91b1-ea756c00f1f5",
   "metadata": {},
   "outputs": [
    {
     "name": "stdout",
     "output_type": "stream",
     "text": [
      "+-------+---+\n",
      "|   Name|Age|\n",
      "+-------+---+\n",
      "|Vaibhav| 26|\n",
      "|  Krish| 31|\n",
      "| Rohit | 24|\n",
      "| Arpit | 23|\n",
      "|Twinken| 23|\n",
      "|  Harsh| 21|\n",
      "+-------+---+\n",
      "\n"
     ]
    }
   ],
   "source": [
    "df.filter('Salary<=20000').select(['Name', 'Age']).show()"
   ]
  },
  {
   "cell_type": "code",
   "execution_count": 8,
   "id": "61cf33a2-2317-4f9c-8d40-ee29cdf58232",
   "metadata": {},
   "outputs": [
    {
     "name": "stdout",
     "output_type": "stream",
     "text": [
      "+------+---+----------+------+\n",
      "|  Name|Age|Experience|Salary|\n",
      "+------+---+----------+------+\n",
      "|Rohit | 24|         1| 10000|\n",
      "|Arpit | 23|         1| 10000|\n",
      "+------+---+----------+------+\n",
      "\n"
     ]
    }
   ],
   "source": [
    "df.filter(df['Salary']<=10000).show()"
   ]
  },
  {
   "cell_type": "code",
   "execution_count": 9,
   "id": "afc0bdb7-3d07-4411-95bd-191cac8e71f8",
   "metadata": {},
   "outputs": [
    {
     "name": "stdout",
     "output_type": "stream",
     "text": [
      "+-------+---+----------+------+\n",
      "|   Name|Age|Experience|Salary|\n",
      "+-------+---+----------+------+\n",
      "|Vaibhav| 26|         3| 15000|\n",
      "| Rohit | 24|         1| 10000|\n",
      "| Arpit | 23|         1| 10000|\n",
      "|Twinken| 23|         2| 15000|\n",
      "|  Harsh| 21|         1| 14000|\n",
      "+-------+---+----------+------+\n",
      "\n"
     ]
    }
   ],
   "source": [
    "df.filter((df[\"Salary\"]<=15000) & \n",
    "          (df[\"Salary\"]>=10000)).show()"
   ]
  },
  {
   "cell_type": "code",
   "execution_count": 10,
   "id": "b827b113-fd50-4be2-9516-b364258505c5",
   "metadata": {},
   "outputs": [
    {
     "name": "stdout",
     "output_type": "stream",
     "text": [
      "+-------+---+----------+------+\n",
      "|   Name|Age|Experience|Salary|\n",
      "+-------+---+----------+------+\n",
      "|Vaibhav| 26|         3| 15000|\n",
      "|  Krish| 31|         4| 20000|\n",
      "|   Suny| 29|         5| 30000|\n",
      "|Twinken| 23|         2| 15000|\n",
      "|  Harsh| 21|         1| 14000|\n",
      "+-------+---+----------+------+\n",
      "\n"
     ]
    }
   ],
   "source": [
    "df.filter(~(df[\"Salary\"]<=10000)).show()"
   ]
  },
  {
   "cell_type": "markdown",
   "id": "e4cd4038-0c54-457c-b447-c0a2adf82ffe",
   "metadata": {},
   "source": [
    "# GroupBy And Aggregate Functions"
   ]
  },
  {
   "cell_type": "code",
   "execution_count": 11,
   "id": "f8da7468-5c66-432d-bebe-c87361ce2a8d",
   "metadata": {},
   "outputs": [],
   "source": [
    "from pyspark.sql import SparkSession"
   ]
  },
  {
   "cell_type": "code",
   "execution_count": 12,
   "id": "faba6a7f-1d33-46ac-ba1b-98d165a7e180",
   "metadata": {},
   "outputs": [],
   "source": [
    "spark = SparkSession.builder.appName('Agg').getOrCreate()"
   ]
  },
  {
   "cell_type": "code",
   "execution_count": 13,
   "id": "0641a11e-cb72-4804-8c24-742dbb5a59dc",
   "metadata": {},
   "outputs": [],
   "source": [
    "df = spark.read.csv(\"test3.csv\", header=True, inferSchema=True)"
   ]
  },
  {
   "cell_type": "code",
   "execution_count": 14,
   "id": "9601c503-cfc3-48d8-9256-f665923157f4",
   "metadata": {},
   "outputs": [
    {
     "name": "stdout",
     "output_type": "stream",
     "text": [
      "+---------+------------+------+\n",
      "|     Name| Departments|Salary|\n",
      "+---------+------------+------+\n",
      "|  Vaibhav|Data Science| 10000|\n",
      "|   Mahesh|   Big  Data|  5000|\n",
      "|Sudhanshu|Data Science| 20000|\n",
      "|    Rohit|         IOT| 10000|\n",
      "|    Krish|      Python| 15000|\n",
      "|  Vaibhav|         IOT|  5000|\n",
      "|    Krish|Data Science| 10000|\n",
      "|    Rohit|   Big  Data| 10000|\n",
      "+---------+------------+------+\n",
      "\n"
     ]
    }
   ],
   "source": [
    "df.show()"
   ]
  },
  {
   "cell_type": "code",
   "execution_count": 15,
   "id": "62124609-7e6a-4541-99a9-ec347d5cbea9",
   "metadata": {},
   "outputs": [
    {
     "name": "stdout",
     "output_type": "stream",
     "text": [
      "root\n",
      " |-- Name: string (nullable = true)\n",
      " |-- Departments: string (nullable = true)\n",
      " |-- Salary: integer (nullable = true)\n",
      "\n"
     ]
    }
   ],
   "source": [
    "df.printSchema()"
   ]
  },
  {
   "cell_type": "code",
   "execution_count": 16,
   "id": "669a4610-a4e2-43bf-b522-6b52f856a1f2",
   "metadata": {},
   "outputs": [
    {
     "name": "stdout",
     "output_type": "stream",
     "text": [
      "+---------+-----------+\n",
      "|     Name|sum(Salary)|\n",
      "+---------+-----------+\n",
      "|Sudhanshu|      20000|\n",
      "|  Vaibhav|      15000|\n",
      "|    Krish|      25000|\n",
      "|    Rohit|      20000|\n",
      "|   Mahesh|       5000|\n",
      "+---------+-----------+\n",
      "\n"
     ]
    }
   ],
   "source": [
    "## Groupby\n",
    "## Grouped to find the maximum salary\n",
    "df.groupBy(\"Name\").sum().show()"
   ]
  },
  {
   "cell_type": "code",
   "execution_count": 17,
   "id": "5c0ec04f-1ad1-4167-a548-6ff57d91400b",
   "metadata": {},
   "outputs": [
    {
     "name": "stdout",
     "output_type": "stream",
     "text": [
      "+------------+-----------+\n",
      "| Departments|sum(Salary)|\n",
      "+------------+-----------+\n",
      "|         IOT|      15000|\n",
      "|   Big  Data|      15000|\n",
      "|      Python|      15000|\n",
      "|Data Science|      40000|\n",
      "+------------+-----------+\n",
      "\n"
     ]
    }
   ],
   "source": [
    "## Groupby Departments which gives maximum salary\n",
    "df.groupBy('Departments').sum().show()"
   ]
  },
  {
   "cell_type": "code",
   "execution_count": 19,
   "id": "f7c59fd2-4ce8-4975-acfd-a9657e38b961",
   "metadata": {},
   "outputs": [
    {
     "name": "stdout",
     "output_type": "stream",
     "text": [
      "+------------+------------------+\n",
      "| Departments|       avg(Salary)|\n",
      "+------------+------------------+\n",
      "|         IOT|            7500.0|\n",
      "|   Big  Data|            7500.0|\n",
      "|      Python|           15000.0|\n",
      "|Data Science|13333.333333333334|\n",
      "+------------+------------------+\n",
      "\n"
     ]
    }
   ],
   "source": [
    "df.groupBy('Departments').mean().show()"
   ]
  },
  {
   "cell_type": "code",
   "execution_count": 20,
   "id": "f172936a-0e01-4fe3-a619-eaad75683deb",
   "metadata": {},
   "outputs": [
    {
     "name": "stdout",
     "output_type": "stream",
     "text": [
      "+------------+-----+\n",
      "| Departments|count|\n",
      "+------------+-----+\n",
      "|         IOT|    2|\n",
      "|   Big  Data|    2|\n",
      "|      Python|    1|\n",
      "|Data Science|    3|\n",
      "+------------+-----+\n",
      "\n"
     ]
    }
   ],
   "source": [
    "df.groupBy('Departments').count().show()"
   ]
  },
  {
   "cell_type": "code",
   "execution_count": 21,
   "id": "b2876a01-e2f1-49ec-a6cc-19c6c2e4003a",
   "metadata": {},
   "outputs": [
    {
     "name": "stdout",
     "output_type": "stream",
     "text": [
      "+-----------+\n",
      "|sum(Salary)|\n",
      "+-----------+\n",
      "|      85000|\n",
      "+-----------+\n",
      "\n"
     ]
    }
   ],
   "source": [
    "# directly\n",
    "df.agg({'Salary':'sum'}).show()"
   ]
  },
  {
   "cell_type": "code",
   "execution_count": 24,
   "id": "356b9d6e-2835-4fca-a193-c9291e79b13c",
   "metadata": {},
   "outputs": [
    {
     "name": "stdout",
     "output_type": "stream",
     "text": [
      "+---------+-----------+\n",
      "|     Name|max(Salary)|\n",
      "+---------+-----------+\n",
      "|Sudhanshu|      20000|\n",
      "|  Vaibhav|      10000|\n",
      "|    Krish|      15000|\n",
      "|    Rohit|      10000|\n",
      "|   Mahesh|       5000|\n",
      "+---------+-----------+\n",
      "\n"
     ]
    }
   ],
   "source": [
    "#max salary \n",
    "df.groupBy('Name').max().show()"
   ]
  },
  {
   "cell_type": "code",
   "execution_count": 23,
   "id": "c0ec620a-2f0e-4881-baf0-4aee404f1529",
   "metadata": {},
   "outputs": [
    {
     "name": "stdout",
     "output_type": "stream",
     "text": [
      "+---------+-----------+\n",
      "|     Name|min(Salary)|\n",
      "+---------+-----------+\n",
      "|Sudhanshu|      20000|\n",
      "|  Vaibhav|       5000|\n",
      "|    Krish|      10000|\n",
      "|    Rohit|      10000|\n",
      "|   Mahesh|       5000|\n",
      "+---------+-----------+\n",
      "\n"
     ]
    }
   ],
   "source": [
    "df.groupBy('Name').min().show()"
   ]
  },
  {
   "cell_type": "code",
   "execution_count": null,
   "id": "457c9f52-b974-470c-a5cc-6cc6d41744fc",
   "metadata": {},
   "outputs": [],
   "source": []
  }
 ],
 "metadata": {
  "kernelspec": {
   "display_name": "bg",
   "language": "python",
   "name": "bg"
  },
  "language_info": {
   "codemirror_mode": {
    "name": "ipython",
    "version": 3
   },
   "file_extension": ".py",
   "mimetype": "text/x-python",
   "name": "python",
   "nbconvert_exporter": "python",
   "pygments_lexer": "ipython3",
   "version": "3.10.0"
  }
 },
 "nbformat": 4,
 "nbformat_minor": 5
}
