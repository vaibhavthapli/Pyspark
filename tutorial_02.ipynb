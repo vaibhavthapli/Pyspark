{
 "cells": [
  {
   "cell_type": "markdown",
   "id": "464ef0e3-9ad5-481b-9070-29b40da94249",
   "metadata": {},
   "source": [
    ". PySpark Dataframe\\\n",
    ". Reading The Dataset\\\n",
    ". Checking the Datatypes of the Column(Schema)\\\n",
    ". Selecting Columns and Indexing\\\n",
    ". Check Describe option similar to Pandas\n",
    ". Adding Columns\n",
    ". Dropping columns"
   ]
  },
  {
   "cell_type": "code",
   "execution_count": 1,
   "id": "04ccbca3-a0cb-4cc6-81ca-28563e9b287f",
   "metadata": {},
   "outputs": [],
   "source": [
    "import pyspark"
   ]
  },
  {
   "cell_type": "code",
   "execution_count": 2,
   "id": "f6be7807-fd92-4c6a-8b31-1c2645c62d05",
   "metadata": {},
   "outputs": [],
   "source": [
    "from pyspark.sql import SparkSession\n",
    "spark=SparkSession.builder.appName('Dataframe').getOrCreate()"
   ]
  },
  {
   "cell_type": "code",
   "execution_count": 3,
   "id": "3efe6d11-cc1a-42da-b8a3-6949f0457bb6",
   "metadata": {},
   "outputs": [
    {
     "data": {
      "text/html": [
       "\n",
       "            <div>\n",
       "                <p><b>SparkSession - in-memory</b></p>\n",
       "                \n",
       "        <div>\n",
       "            <p><b>SparkContext</b></p>\n",
       "\n",
       "            <p><a href=\"http://192.168.1.5:4041\">Spark UI</a></p>\n",
       "\n",
       "            <dl>\n",
       "              <dt>Version</dt>\n",
       "                <dd><code>v3.5.1</code></dd>\n",
       "              <dt>Master</dt>\n",
       "                <dd><code>local[*]</code></dd>\n",
       "              <dt>AppName</dt>\n",
       "                <dd><code>Dataframe</code></dd>\n",
       "            </dl>\n",
       "        </div>\n",
       "        \n",
       "            </div>\n",
       "        "
      ],
      "text/plain": [
       "<pyspark.sql.session.SparkSession at 0x26c874f01f0>"
      ]
     },
     "execution_count": 3,
     "metadata": {},
     "output_type": "execute_result"
    }
   ],
   "source": [
    "spark"
   ]
  },
  {
   "cell_type": "code",
   "execution_count": 4,
   "id": "52ba04a0-e90d-474f-bffe-11a60996f8fc",
   "metadata": {},
   "outputs": [
    {
     "name": "stdout",
     "output_type": "stream",
     "text": [
      "+-------+---+----------+\n",
      "|   Name|Age|Experience|\n",
      "+-------+---+----------+\n",
      "|Vaibhav| 26|         3|\n",
      "|  Krish| 31|         4|\n",
      "|   Suny| 29|         5|\n",
      "| Rohit | 24|         1|\n",
      "| Arpit | 23|         1|\n",
      "|Twinken| 23|         2|\n",
      "|  Harsh| 21|         0|\n",
      "+-------+---+----------+\n",
      "\n"
     ]
    }
   ],
   "source": [
    "#read the dataset\n",
    "spark.read.option('header','true').csv('test1.csv').show()"
   ]
  },
  {
   "cell_type": "code",
   "execution_count": 6,
   "id": "dcb0e0ee-f0d1-40b7-9850-a6559fd91148",
   "metadata": {},
   "outputs": [],
   "source": [
    "df = spark.read.option('header','true').csv('test1.csv')"
   ]
  },
  {
   "cell_type": "code",
   "execution_count": 9,
   "id": "358cc764-a4a8-4c3a-a7da-e4e164cfe38f",
   "metadata": {},
   "outputs": [
    {
     "name": "stdout",
     "output_type": "stream",
     "text": [
      "root\n",
      " |-- Name: string (nullable = true)\n",
      " |-- Age: string (nullable = true)\n",
      " |-- Experience: string (nullable = true)\n",
      "\n"
     ]
    }
   ],
   "source": [
    "##check the schema\n",
    "df.printSchema()\n",
    "# find that Age ans Experience is taken as string we have to change that"
   ]
  },
  {
   "cell_type": "code",
   "execution_count": 10,
   "id": "b348ef9e-4532-4082-bcc4-956f2f4deb84",
   "metadata": {},
   "outputs": [],
   "source": [
    "df = spark.read.option('header','true').csv('test1.csv',inferSchema=True)"
   ]
  },
  {
   "cell_type": "code",
   "execution_count": 11,
   "id": "dd5f5347-dcdb-4b3d-8768-2e6cdd23a8d0",
   "metadata": {},
   "outputs": [
    {
     "name": "stdout",
     "output_type": "stream",
     "text": [
      "root\n",
      " |-- Name: string (nullable = true)\n",
      " |-- Age: integer (nullable = true)\n",
      " |-- Experience: integer (nullable = true)\n",
      "\n"
     ]
    }
   ],
   "source": [
    "df.printSchema()\n",
    "# Now its correct"
   ]
  },
  {
   "cell_type": "code",
   "execution_count": 12,
   "id": "598ebe2d-495c-42e3-9b7b-d3d025c0b43e",
   "metadata": {},
   "outputs": [
    {
     "name": "stdout",
     "output_type": "stream",
     "text": [
      "+-------+---+----------+\n",
      "|   Name|Age|Experience|\n",
      "+-------+---+----------+\n",
      "|Vaibhav| 26|         3|\n",
      "|  Krish| 31|         4|\n",
      "|   Suny| 29|         5|\n",
      "| Rohit | 24|         1|\n",
      "| Arpit | 23|         1|\n",
      "|Twinken| 23|         2|\n",
      "|  Harsh| 21|         0|\n",
      "+-------+---+----------+\n",
      "\n"
     ]
    }
   ],
   "source": [
    "#read_2\n",
    "df1 = spark.read.csv('test1.csv',header=True,inferSchema=True)\n",
    "df1.show()"
   ]
  },
  {
   "cell_type": "code",
   "execution_count": 13,
   "id": "6f17df41-d119-4374-9762-489087d47daa",
   "metadata": {},
   "outputs": [
    {
     "name": "stdout",
     "output_type": "stream",
     "text": [
      "root\n",
      " |-- Name: string (nullable = true)\n",
      " |-- Age: integer (nullable = true)\n",
      " |-- Experience: integer (nullable = true)\n",
      "\n"
     ]
    }
   ],
   "source": [
    "df1.printSchema()"
   ]
  },
  {
   "cell_type": "code",
   "execution_count": 14,
   "id": "57959f5c-774c-4468-a69e-051e72fa6f13",
   "metadata": {},
   "outputs": [
    {
     "data": {
      "text/plain": [
       "pyspark.sql.dataframe.DataFrame"
      ]
     },
     "execution_count": 14,
     "metadata": {},
     "output_type": "execute_result"
    }
   ],
   "source": [
    "#type\n",
    "type(df)"
   ]
  },
  {
   "cell_type": "code",
   "execution_count": 15,
   "id": "9f8001f8-e980-4323-9fd5-b30278da23c2",
   "metadata": {},
   "outputs": [
    {
     "data": {
      "text/plain": [
       "pyspark.sql.dataframe.DataFrame"
      ]
     },
     "execution_count": 15,
     "metadata": {},
     "output_type": "execute_result"
    }
   ],
   "source": [
    "type(df1)"
   ]
  },
  {
   "cell_type": "code",
   "execution_count": 17,
   "id": "694ddfc8-a360-4b27-b5c4-d51d36a99920",
   "metadata": {},
   "outputs": [
    {
     "data": {
      "text/plain": [
       "['Name', 'Age', 'Experience']"
      ]
     },
     "execution_count": 17,
     "metadata": {},
     "output_type": "execute_result"
    }
   ],
   "source": [
    "#selecting columns \n",
    "df1.columns"
   ]
  },
  {
   "cell_type": "code",
   "execution_count": 19,
   "id": "8351058d-c9f8-40a4-9696-dd024005dcc5",
   "metadata": {},
   "outputs": [
    {
     "name": "stdout",
     "output_type": "stream",
     "text": [
      "+-------+\n",
      "|   Name|\n",
      "+-------+\n",
      "|Vaibhav|\n",
      "|  Krish|\n",
      "|   Suny|\n",
      "| Rohit |\n",
      "| Arpit |\n",
      "|Twinken|\n",
      "|  Harsh|\n",
      "+-------+\n",
      "\n"
     ]
    }
   ],
   "source": [
    "df1.select('Name').show() #single column"
   ]
  },
  {
   "cell_type": "code",
   "execution_count": 22,
   "id": "e4448fa3-cc17-4e35-b6ed-65bbbc36ae77",
   "metadata": {},
   "outputs": [
    {
     "name": "stdout",
     "output_type": "stream",
     "text": [
      "+-------+---+\n",
      "|   Name|Age|\n",
      "+-------+---+\n",
      "|Vaibhav| 26|\n",
      "|  Krish| 31|\n",
      "|   Suny| 29|\n",
      "| Rohit | 24|\n",
      "| Arpit | 23|\n",
      "|Twinken| 23|\n",
      "|  Harsh| 21|\n",
      "+-------+---+\n",
      "\n",
      "+-------+----------+\n",
      "|   Name|Experience|\n",
      "+-------+----------+\n",
      "|Vaibhav|         3|\n",
      "|  Krish|         4|\n",
      "|   Suny|         5|\n",
      "| Rohit |         1|\n",
      "| Arpit |         1|\n",
      "|Twinken|         2|\n",
      "|  Harsh|         0|\n",
      "+-------+----------+\n",
      "\n"
     ]
    }
   ],
   "source": [
    "#multiple column\n",
    "df1.select(['Name','Age']).show()\n",
    "df1.select(['Name','Experience']).show()"
   ]
  },
  {
   "cell_type": "code",
   "execution_count": 25,
   "id": "b51fb572-1b14-4860-b63f-4b9f27799d6b",
   "metadata": {},
   "outputs": [
    {
     "data": {
      "text/plain": [
       "[('Name', 'string'), ('Age', 'int'), ('Experience', 'int')]"
      ]
     },
     "execution_count": 25,
     "metadata": {},
     "output_type": "execute_result"
    }
   ],
   "source": [
    "#check the datatype\n",
    "df1.dtypes"
   ]
  },
  {
   "cell_type": "code",
   "execution_count": 27,
   "id": "af5e9ab1-edc5-419f-9cce-9f960fa45809",
   "metadata": {},
   "outputs": [
    {
     "data": {
      "text/plain": [
       "DataFrame[summary: string, Name: string, Age: string, Experience: string]"
      ]
     },
     "execution_count": 27,
     "metadata": {},
     "output_type": "execute_result"
    }
   ],
   "source": [
    "#describe\n",
    "df1.describe()"
   ]
  },
  {
   "cell_type": "code",
   "execution_count": 28,
   "id": "ceb6df67-c725-4c54-8161-d9c6ad7fdf2e",
   "metadata": {},
   "outputs": [
    {
     "name": "stdout",
     "output_type": "stream",
     "text": [
      "+-------+-------+------------------+------------------+\n",
      "|summary|   Name|               Age|        Experience|\n",
      "+-------+-------+------------------+------------------+\n",
      "|  count|      7|                 7|                 7|\n",
      "|   mean|   NULL|25.285714285714285|2.2857142857142856|\n",
      "| stddev|   NULL|3.5923198500080566| 1.799470821684875|\n",
      "|    min| Arpit |                21|                 0|\n",
      "|    max|Vaibhav|                31|                 5|\n",
      "+-------+-------+------------------+------------------+\n",
      "\n"
     ]
    }
   ],
   "source": [
    "df1.describe().show()"
   ]
  },
  {
   "cell_type": "code",
   "execution_count": 32,
   "id": "294e877d-0745-40c8-9d2c-62d2be3f0f40",
   "metadata": {},
   "outputs": [],
   "source": [
    "## adding Columns in a datafram\n",
    "dfu = df1.withColumn('Experience After 2 year',df1['Experience']+2)"
   ]
  },
  {
   "cell_type": "code",
   "execution_count": 33,
   "id": "a7e54fc4-dcdf-44db-98e4-8a7ae3aebad4",
   "metadata": {},
   "outputs": [
    {
     "name": "stdout",
     "output_type": "stream",
     "text": [
      "+-------+---+----------+-----------------------+\n",
      "|   Name|Age|Experience|Experience After 2 year|\n",
      "+-------+---+----------+-----------------------+\n",
      "|Vaibhav| 26|         3|                      5|\n",
      "|  Krish| 31|         4|                      6|\n",
      "|   Suny| 29|         5|                      7|\n",
      "| Rohit | 24|         1|                      3|\n",
      "| Arpit | 23|         1|                      3|\n",
      "|Twinken| 23|         2|                      4|\n",
      "|  Harsh| 21|         0|                      2|\n",
      "+-------+---+----------+-----------------------+\n",
      "\n"
     ]
    }
   ],
   "source": [
    "dfu.show()"
   ]
  },
  {
   "cell_type": "code",
   "execution_count": 34,
   "id": "c5fb8705-13fb-4e05-9cdc-e7b430cfaad6",
   "metadata": {},
   "outputs": [
    {
     "name": "stdout",
     "output_type": "stream",
     "text": [
      "+-------+---+----------+\n",
      "|   Name|Age|Experience|\n",
      "+-------+---+----------+\n",
      "|Vaibhav| 26|         3|\n",
      "|  Krish| 31|         4|\n",
      "|   Suny| 29|         5|\n",
      "| Rohit | 24|         1|\n",
      "| Arpit | 23|         1|\n",
      "|Twinken| 23|         2|\n",
      "|  Harsh| 21|         0|\n",
      "+-------+---+----------+\n",
      "\n"
     ]
    }
   ],
   "source": [
    "## Drop the columns\n",
    "dfu = dfu.drop('Experience After 2 year')\n",
    "dfu.show()"
   ]
  },
  {
   "cell_type": "code",
   "execution_count": 35,
   "id": "3b090905-9520-44a9-8b0b-292f7796ae01",
   "metadata": {},
   "outputs": [
    {
     "name": "stdout",
     "output_type": "stream",
     "text": [
      "+--------+---+----------+\n",
      "|New Name|Age|Experience|\n",
      "+--------+---+----------+\n",
      "| Vaibhav| 26|         3|\n",
      "|   Krish| 31|         4|\n",
      "|    Suny| 29|         5|\n",
      "|  Rohit | 24|         1|\n",
      "|  Arpit | 23|         1|\n",
      "| Twinken| 23|         2|\n",
      "|   Harsh| 21|         0|\n",
      "+--------+---+----------+\n",
      "\n"
     ]
    }
   ],
   "source": [
    "#### Rename the column\n",
    "dfu = dfu.withColumnRenamed('Name','New Name')\n",
    "dfu.show()"
   ]
  },
  {
   "cell_type": "code",
   "execution_count": null,
   "id": "fab1f686-0b3c-4250-8413-2d99d62b6d30",
   "metadata": {},
   "outputs": [],
   "source": []
  }
 ],
 "metadata": {
  "kernelspec": {
   "display_name": "bg",
   "language": "python",
   "name": "bg"
  },
  "language_info": {
   "codemirror_mode": {
    "name": "ipython",
    "version": 3
   },
   "file_extension": ".py",
   "mimetype": "text/x-python",
   "name": "python",
   "nbconvert_exporter": "python",
   "pygments_lexer": "ipython3",
   "version": "3.10.0"
  }
 },
 "nbformat": 4,
 "nbformat_minor": 5
}
