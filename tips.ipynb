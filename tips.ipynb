{
 "cells": [
  {
   "cell_type": "markdown",
   "metadata": {
    "application/vnd.databricks.v1+cell": {
     "cellMetadata": {},
     "inputWidgets": {},
     "nuid": "96816ed7-b08a-4ca3-abb9-f99880c3535d",
     "showTitle": false,
     "title": ""
    }
   },
   "source": [
    "\n",
    "## Overview\n",
    "\n",
    "This notebook will show you how to create and query a table or DataFrame that you uploaded to DBFS. [DBFS](https://docs.databricks.com/user-guide/dbfs-databricks-file-system.html) is a Databricks File System that allows you to store data for querying inside of Databricks. This notebook assumes that you have a file already inside of DBFS that you would like to read from.\n",
    "\n",
    "This notebook is written in **Python** so the default cell type is Python. However, you can use different languages by using the `%LANGUAGE` syntax. Python, Scala, SQL, and R are all supported."
   ]
  },
  {
   "cell_type": "code",
   "execution_count": 2,
   "metadata": {},
   "outputs": [],
   "source": [
    "from pyspark.sql import SparkSession\n",
    "spark=SparkSession.builder.appName('Lr').getOrCreate()"
   ]
  },
  {
   "cell_type": "code",
   "execution_count": 4,
   "metadata": {
    "application/vnd.databricks.v1+cell": {
     "cellMetadata": {
      "byteLimit": 2048000,
      "rowLimit": 10000
     },
     "inputWidgets": {},
     "nuid": "6482be4c-f067-47c9-b0ac-35c938b94601",
     "showTitle": false,
     "title": ""
    }
   },
   "outputs": [],
   "source": [
    "# File location and type\n",
    "file_location = \"tip/tips.csv\"\n",
    "file_type = \"csv\"\n",
    "\n",
    "\n",
    "# The applied options are for CSV files. For other file types, these will be ignored.\n",
    "df = spark.read.csv(file_location,header=True,inferSchema=True)"
   ]
  },
  {
   "cell_type": "code",
   "execution_count": 5,
   "metadata": {
    "application/vnd.databricks.v1+cell": {
     "cellMetadata": {
      "byteLimit": 2048000,
      "rowLimit": 10000
     },
     "inputWidgets": {},
     "nuid": "bd82bb99-1479-4d5c-be10-8c36df0f1d44",
     "showTitle": false,
     "title": ""
    }
   },
   "outputs": [
    {
     "name": "stdout",
     "output_type": "stream",
     "text": [
      "+----------+----+------+------+---+------+----+\n",
      "|total_bill| tip|   sex|smoker|day|  time|size|\n",
      "+----------+----+------+------+---+------+----+\n",
      "|     16.99|1.01|Female|    No|Sun|Dinner|   2|\n",
      "|     10.34|1.66|  Male|    No|Sun|Dinner|   3|\n",
      "|     21.01| 3.5|  Male|    No|Sun|Dinner|   3|\n",
      "|     23.68|3.31|  Male|    No|Sun|Dinner|   2|\n",
      "|     24.59|3.61|Female|    No|Sun|Dinner|   4|\n",
      "|     25.29|4.71|  Male|    No|Sun|Dinner|   4|\n",
      "|      8.77| 2.0|  Male|    No|Sun|Dinner|   2|\n",
      "|     26.88|3.12|  Male|    No|Sun|Dinner|   4|\n",
      "|     15.04|1.96|  Male|    No|Sun|Dinner|   2|\n",
      "|     14.78|3.23|  Male|    No|Sun|Dinner|   2|\n",
      "|     10.27|1.71|  Male|    No|Sun|Dinner|   2|\n",
      "|     35.26| 5.0|Female|    No|Sun|Dinner|   4|\n",
      "|     15.42|1.57|  Male|    No|Sun|Dinner|   2|\n",
      "|     18.43| 3.0|  Male|    No|Sun|Dinner|   4|\n",
      "|     14.83|3.02|Female|    No|Sun|Dinner|   2|\n",
      "|     21.58|3.92|  Male|    No|Sun|Dinner|   2|\n",
      "|     10.33|1.67|Female|    No|Sun|Dinner|   3|\n",
      "|     16.29|3.71|  Male|    No|Sun|Dinner|   3|\n",
      "|     16.97| 3.5|Female|    No|Sun|Dinner|   3|\n",
      "|     20.65|3.35|  Male|    No|Sat|Dinner|   3|\n",
      "+----------+----+------+------+---+------+----+\n",
      "only showing top 20 rows\n",
      "\n"
     ]
    }
   ],
   "source": [
    "# Create a view or table\n",
    "df.show()"
   ]
  },
  {
   "cell_type": "code",
   "execution_count": 6,
   "metadata": {
    "application/vnd.databricks.v1+cell": {
     "cellMetadata": {
      "byteLimit": 2048000,
      "rowLimit": 10000
     },
     "inputWidgets": {},
     "nuid": "b5f66379-6f7f-42ec-8e82-d0e0926a1721",
     "showTitle": false,
     "title": ""
    }
   },
   "outputs": [
    {
     "name": "stdout",
     "output_type": "stream",
     "text": [
      "root\n",
      " |-- total_bill: double (nullable = true)\n",
      " |-- tip: double (nullable = true)\n",
      " |-- sex: string (nullable = true)\n",
      " |-- smoker: string (nullable = true)\n",
      " |-- day: string (nullable = true)\n",
      " |-- time: string (nullable = true)\n",
      " |-- size: integer (nullable = true)\n",
      "\n"
     ]
    }
   ],
   "source": [
    "df.printSchema()"
   ]
  },
  {
   "cell_type": "code",
   "execution_count": 7,
   "metadata": {
    "application/vnd.databricks.v1+cell": {
     "cellMetadata": {
      "byteLimit": 2048000,
      "rowLimit": 10000
     },
     "inputWidgets": {},
     "nuid": "db9631f6-bb4a-42ca-8a3c-0d48af932331",
     "showTitle": false,
     "title": ""
    }
   },
   "outputs": [
    {
     "data": {
      "text/plain": [
       "['total_bill', 'tip', 'sex', 'smoker', 'day', 'time', 'size']"
      ]
     },
     "execution_count": 7,
     "metadata": {},
     "output_type": "execute_result"
    }
   ],
   "source": [
    "df.columns"
   ]
  },
  {
   "cell_type": "code",
   "execution_count": 8,
   "metadata": {
    "application/vnd.databricks.v1+cell": {
     "cellMetadata": {
      "byteLimit": 2048000,
      "rowLimit": 10000
     },
     "inputWidgets": {},
     "nuid": "4e9285f7-6577-45e9-a271-8e1380f067be",
     "showTitle": false,
     "title": ""
    }
   },
   "outputs": [],
   "source": [
    "### Handling Categorical Features\n",
    "from pyspark.ml.feature import StringIndexer"
   ]
  },
  {
   "cell_type": "code",
   "execution_count": 9,
   "metadata": {
    "application/vnd.databricks.v1+cell": {
     "cellMetadata": {
      "byteLimit": 2048000,
      "rowLimit": 10000
     },
     "inputWidgets": {},
     "nuid": "6d7dbbb0-6cfc-40f9-8f77-65095e85daf0",
     "showTitle": false,
     "title": ""
    }
   },
   "outputs": [
    {
     "name": "stdout",
     "output_type": "stream",
     "text": [
      "+----------+----+------+------+---+------+----+---------+\n",
      "|total_bill| tip|   sex|smoker|day|  time|size|sex_index|\n",
      "+----------+----+------+------+---+------+----+---------+\n",
      "|     16.99|1.01|Female|    No|Sun|Dinner|   2|      1.0|\n",
      "|     10.34|1.66|  Male|    No|Sun|Dinner|   3|      0.0|\n",
      "|     21.01| 3.5|  Male|    No|Sun|Dinner|   3|      0.0|\n",
      "|     23.68|3.31|  Male|    No|Sun|Dinner|   2|      0.0|\n",
      "|     24.59|3.61|Female|    No|Sun|Dinner|   4|      1.0|\n",
      "|     25.29|4.71|  Male|    No|Sun|Dinner|   4|      0.0|\n",
      "|      8.77| 2.0|  Male|    No|Sun|Dinner|   2|      0.0|\n",
      "|     26.88|3.12|  Male|    No|Sun|Dinner|   4|      0.0|\n",
      "|     15.04|1.96|  Male|    No|Sun|Dinner|   2|      0.0|\n",
      "|     14.78|3.23|  Male|    No|Sun|Dinner|   2|      0.0|\n",
      "|     10.27|1.71|  Male|    No|Sun|Dinner|   2|      0.0|\n",
      "|     35.26| 5.0|Female|    No|Sun|Dinner|   4|      1.0|\n",
      "|     15.42|1.57|  Male|    No|Sun|Dinner|   2|      0.0|\n",
      "|     18.43| 3.0|  Male|    No|Sun|Dinner|   4|      0.0|\n",
      "|     14.83|3.02|Female|    No|Sun|Dinner|   2|      1.0|\n",
      "|     21.58|3.92|  Male|    No|Sun|Dinner|   2|      0.0|\n",
      "|     10.33|1.67|Female|    No|Sun|Dinner|   3|      1.0|\n",
      "|     16.29|3.71|  Male|    No|Sun|Dinner|   3|      0.0|\n",
      "|     16.97| 3.5|Female|    No|Sun|Dinner|   3|      1.0|\n",
      "|     20.65|3.35|  Male|    No|Sat|Dinner|   3|      0.0|\n",
      "+----------+----+------+------+---+------+----+---------+\n",
      "only showing top 20 rows\n",
      "\n"
     ]
    }
   ],
   "source": [
    "indexer = StringIndexer(inputCol=\"sex\",outputCol=\"sex_index\")\n",
    "df_r=indexer.fit(df).transform(df)\n",
    "df_r.show()"
   ]
  },
  {
   "cell_type": "code",
   "execution_count": 10,
   "metadata": {
    "application/vnd.databricks.v1+cell": {
     "cellMetadata": {
      "byteLimit": 2048000,
      "rowLimit": 10000
     },
     "inputWidgets": {},
     "nuid": "b427805e-10de-4aad-9654-48ef8856b3b4",
     "showTitle": false,
     "title": ""
    }
   },
   "outputs": [
    {
     "name": "stdout",
     "output_type": "stream",
     "text": [
      "+----------+----+------+------+---+------+----+---------+------------+---------+----------+\n",
      "|total_bill| tip|   sex|smoker|day|  time|size|sex_index|smoker_index|day_index|time_index|\n",
      "+----------+----+------+------+---+------+----+---------+------------+---------+----------+\n",
      "|     16.99|1.01|Female|    No|Sun|Dinner|   2|      1.0|         0.0|      1.0|       0.0|\n",
      "|     10.34|1.66|  Male|    No|Sun|Dinner|   3|      0.0|         0.0|      1.0|       0.0|\n",
      "|     21.01| 3.5|  Male|    No|Sun|Dinner|   3|      0.0|         0.0|      1.0|       0.0|\n",
      "|     23.68|3.31|  Male|    No|Sun|Dinner|   2|      0.0|         0.0|      1.0|       0.0|\n",
      "|     24.59|3.61|Female|    No|Sun|Dinner|   4|      1.0|         0.0|      1.0|       0.0|\n",
      "|     25.29|4.71|  Male|    No|Sun|Dinner|   4|      0.0|         0.0|      1.0|       0.0|\n",
      "|      8.77| 2.0|  Male|    No|Sun|Dinner|   2|      0.0|         0.0|      1.0|       0.0|\n",
      "|     26.88|3.12|  Male|    No|Sun|Dinner|   4|      0.0|         0.0|      1.0|       0.0|\n",
      "|     15.04|1.96|  Male|    No|Sun|Dinner|   2|      0.0|         0.0|      1.0|       0.0|\n",
      "|     14.78|3.23|  Male|    No|Sun|Dinner|   2|      0.0|         0.0|      1.0|       0.0|\n",
      "|     10.27|1.71|  Male|    No|Sun|Dinner|   2|      0.0|         0.0|      1.0|       0.0|\n",
      "|     35.26| 5.0|Female|    No|Sun|Dinner|   4|      1.0|         0.0|      1.0|       0.0|\n",
      "|     15.42|1.57|  Male|    No|Sun|Dinner|   2|      0.0|         0.0|      1.0|       0.0|\n",
      "|     18.43| 3.0|  Male|    No|Sun|Dinner|   4|      0.0|         0.0|      1.0|       0.0|\n",
      "|     14.83|3.02|Female|    No|Sun|Dinner|   2|      1.0|         0.0|      1.0|       0.0|\n",
      "|     21.58|3.92|  Male|    No|Sun|Dinner|   2|      0.0|         0.0|      1.0|       0.0|\n",
      "|     10.33|1.67|Female|    No|Sun|Dinner|   3|      1.0|         0.0|      1.0|       0.0|\n",
      "|     16.29|3.71|  Male|    No|Sun|Dinner|   3|      0.0|         0.0|      1.0|       0.0|\n",
      "|     16.97| 3.5|Female|    No|Sun|Dinner|   3|      1.0|         0.0|      1.0|       0.0|\n",
      "|     20.65|3.35|  Male|    No|Sat|Dinner|   3|      0.0|         0.0|      0.0|       0.0|\n",
      "+----------+----+------+------+---+------+----+---------+------------+---------+----------+\n",
      "only showing top 20 rows\n",
      "\n"
     ]
    }
   ],
   "source": [
    "indexer = StringIndexer(inputCols=[\"smoker\",\"day\",\"time\"],outputCols=[\"smoker_index\",\"day_index\",\"time_index\"])\n",
    "df_r=indexer.fit(df_r).transform(df_r)\n",
    "df_r.show()"
   ]
  },
  {
   "cell_type": "code",
   "execution_count": 11,
   "metadata": {
    "application/vnd.databricks.v1+cell": {
     "cellMetadata": {
      "byteLimit": 2048000,
      "rowLimit": 10000
     },
     "inputWidgets": {},
     "nuid": "97e623ba-e97b-46e4-850d-e70f2cb8aa73",
     "showTitle": false,
     "title": ""
    }
   },
   "outputs": [
    {
     "data": {
      "text/plain": [
       "['total_bill',\n",
       " 'tip',\n",
       " 'sex',\n",
       " 'smoker',\n",
       " 'day',\n",
       " 'time',\n",
       " 'size',\n",
       " 'sex_index',\n",
       " 'smoker_index',\n",
       " 'day_index',\n",
       " 'time_index']"
      ]
     },
     "execution_count": 11,
     "metadata": {},
     "output_type": "execute_result"
    }
   ],
   "source": [
    "df_r.columns"
   ]
  },
  {
   "cell_type": "code",
   "execution_count": 12,
   "metadata": {
    "application/vnd.databricks.v1+cell": {
     "cellMetadata": {
      "byteLimit": 2048000,
      "rowLimit": 10000
     },
     "inputWidgets": {},
     "nuid": "b066d241-0286-4588-bf10-d8cfc7548ab8",
     "showTitle": false,
     "title": ""
    }
   },
   "outputs": [],
   "source": [
    "#vectorassembler\n",
    "from pyspark.ml.feature import VectorAssembler\n",
    "featureassembler=VectorAssembler(inputCols=['tip','size','sex_index','smoker_index','day_index','time_index'], outputCol=\"Independent Features\")\n",
    "output = featureassembler.transform(df_r)"
   ]
  },
  {
   "cell_type": "code",
   "execution_count": 13,
   "metadata": {
    "application/vnd.databricks.v1+cell": {
     "cellMetadata": {
      "byteLimit": 2048000,
      "rowLimit": 10000
     },
     "inputWidgets": {},
     "nuid": "d954ea98-5a90-4e27-8743-2902309defd8",
     "showTitle": false,
     "title": ""
    }
   },
   "outputs": [
    {
     "name": "stdout",
     "output_type": "stream",
     "text": [
      "+--------------------+\n",
      "|Independent Features|\n",
      "+--------------------+\n",
      "|[1.01,2.0,1.0,0.0...|\n",
      "|[1.66,3.0,0.0,0.0...|\n",
      "|[3.5,3.0,0.0,0.0,...|\n",
      "|[3.31,2.0,0.0,0.0...|\n",
      "|[3.61,4.0,1.0,0.0...|\n",
      "|[4.71,4.0,0.0,0.0...|\n",
      "|[2.0,2.0,0.0,0.0,...|\n",
      "|[3.12,4.0,0.0,0.0...|\n",
      "|[1.96,2.0,0.0,0.0...|\n",
      "|[3.23,2.0,0.0,0.0...|\n",
      "|[1.71,2.0,0.0,0.0...|\n",
      "|[5.0,4.0,1.0,0.0,...|\n",
      "|[1.57,2.0,0.0,0.0...|\n",
      "|[3.0,4.0,0.0,0.0,...|\n",
      "|[3.02,2.0,1.0,0.0...|\n",
      "|[3.92,2.0,0.0,0.0...|\n",
      "|[1.67,3.0,1.0,0.0...|\n",
      "|[3.71,3.0,0.0,0.0...|\n",
      "|[3.5,3.0,1.0,0.0,...|\n",
      "|(6,[0,1],[3.35,3.0])|\n",
      "+--------------------+\n",
      "only showing top 20 rows\n",
      "\n"
     ]
    }
   ],
   "source": [
    "output.select('Independent Features').show()"
   ]
  },
  {
   "cell_type": "code",
   "execution_count": 14,
   "metadata": {
    "application/vnd.databricks.v1+cell": {
     "cellMetadata": {
      "byteLimit": 2048000,
      "rowLimit": 10000
     },
     "inputWidgets": {},
     "nuid": "525b2f62-175c-4e52-aabf-a07ca12f57c0",
     "showTitle": false,
     "title": ""
    }
   },
   "outputs": [
    {
     "name": "stdout",
     "output_type": "stream",
     "text": [
      "+--------------------+----------+\n",
      "|Independent Features|total_bill|\n",
      "+--------------------+----------+\n",
      "|[1.01,2.0,1.0,0.0...|     16.99|\n",
      "|[1.66,3.0,0.0,0.0...|     10.34|\n",
      "|[3.5,3.0,0.0,0.0,...|     21.01|\n",
      "|[3.31,2.0,0.0,0.0...|     23.68|\n",
      "|[3.61,4.0,1.0,0.0...|     24.59|\n",
      "|[4.71,4.0,0.0,0.0...|     25.29|\n",
      "|[2.0,2.0,0.0,0.0,...|      8.77|\n",
      "|[3.12,4.0,0.0,0.0...|     26.88|\n",
      "|[1.96,2.0,0.0,0.0...|     15.04|\n",
      "|[3.23,2.0,0.0,0.0...|     14.78|\n",
      "|[1.71,2.0,0.0,0.0...|     10.27|\n",
      "|[5.0,4.0,1.0,0.0,...|     35.26|\n",
      "|[1.57,2.0,0.0,0.0...|     15.42|\n",
      "|[3.0,4.0,0.0,0.0,...|     18.43|\n",
      "|[3.02,2.0,1.0,0.0...|     14.83|\n",
      "|[3.92,2.0,0.0,0.0...|     21.58|\n",
      "|[1.67,3.0,1.0,0.0...|     10.33|\n",
      "|[3.71,3.0,0.0,0.0...|     16.29|\n",
      "|[3.5,3.0,1.0,0.0,...|     16.97|\n",
      "|(6,[0,1],[3.35,3.0])|     20.65|\n",
      "+--------------------+----------+\n",
      "only showing top 20 rows\n",
      "\n"
     ]
    }
   ],
   "source": [
    "finalized_data = output.select(\"Independent Features\", \"total_bill\")\n",
    "finalized_data.show()"
   ]
  },
  {
   "cell_type": "code",
   "execution_count": 15,
   "metadata": {
    "application/vnd.databricks.v1+cell": {
     "cellMetadata": {
      "byteLimit": 2048000,
      "rowLimit": 10000
     },
     "inputWidgets": {},
     "nuid": "5ccdc7ac-d007-4790-b27e-c462fbbe9d55",
     "showTitle": false,
     "title": ""
    }
   },
   "outputs": [],
   "source": [
    "#inplement ML Linear Regression \n",
    "from pyspark.ml.regression import LinearRegression\n",
    "#train test split \n",
    "train_data,test_data=finalized_data.randomSplit([0.75,0.25])\n",
    "regressor=LinearRegression(featuresCol=\"Independent Features\", labelCol=\"total_bill\")\n",
    "regressor=regressor.fit(train_data)"
   ]
  },
  {
   "cell_type": "code",
   "execution_count": 16,
   "metadata": {
    "application/vnd.databricks.v1+cell": {
     "cellMetadata": {
      "byteLimit": 2048000,
      "rowLimit": 10000
     },
     "inputWidgets": {},
     "nuid": "1478811e-fa55-403b-bea3-2bdb9c1e578e",
     "showTitle": false,
     "title": ""
    }
   },
   "outputs": [
    {
     "data": {
      "text/plain": [
       "DenseVector([3.2249, 3.3126, -1.6152, 2.5422, -0.3, -1.0683])"
      ]
     },
     "execution_count": 16,
     "metadata": {},
     "output_type": "execute_result"
    }
   ],
   "source": [
    "regressor.coefficients"
   ]
  },
  {
   "cell_type": "code",
   "execution_count": 17,
   "metadata": {
    "application/vnd.databricks.v1+cell": {
     "cellMetadata": {
      "byteLimit": 2048000,
      "rowLimit": 10000
     },
     "inputWidgets": {},
     "nuid": "e370e6cb-b033-459c-9acb-c6cda174d423",
     "showTitle": false,
     "title": ""
    }
   },
   "outputs": [
    {
     "data": {
      "text/plain": [
       "1.7078876453650909"
      ]
     },
     "execution_count": 17,
     "metadata": {},
     "output_type": "execute_result"
    }
   ],
   "source": [
    "regressor.intercept"
   ]
  },
  {
   "cell_type": "code",
   "execution_count": 18,
   "metadata": {
    "application/vnd.databricks.v1+cell": {
     "cellMetadata": {
      "byteLimit": 2048000,
      "rowLimit": 10000
     },
     "inputWidgets": {},
     "nuid": "661850bb-7b01-424b-a054-180f7ff0724c",
     "showTitle": false,
     "title": ""
    }
   },
   "outputs": [],
   "source": [
    "#prediction\n",
    "pred_results=regressor.evaluate(test_data)"
   ]
  },
  {
   "cell_type": "code",
   "execution_count": 19,
   "metadata": {
    "application/vnd.databricks.v1+cell": {
     "cellMetadata": {
      "byteLimit": 2048000,
      "rowLimit": 10000
     },
     "inputWidgets": {},
     "nuid": "fa17a9a3-bcdd-429e-ae44-cb9220b3a30a",
     "showTitle": false,
     "title": ""
    }
   },
   "outputs": [
    {
     "name": "stdout",
     "output_type": "stream",
     "text": [
      "+--------------------+----------+------------------+\n",
      "|Independent Features|total_bill|        prediction|\n",
      "+--------------------+----------+------------------+\n",
      "|(6,[0,1],[1.47,2.0])|     10.77|13.073689233503256|\n",
      "|(6,[0,1],[2.01,2.0])|     20.23|14.815150627477703|\n",
      "| (6,[0,1],[3.0,4.0])|     20.45|24.632986532083027|\n",
      "|(6,[0,1],[7.58,4.0])|     39.42| 39.40315909579223|\n",
      "|[1.0,1.0,1.0,1.0,...|      3.07| 9.172417972630726|\n",
      "|[1.36,3.0,1.0,0.0...|     18.64| 12.74798414633626|\n",
      "|[1.5,2.0,0.0,0.0,...|     19.08|11.502087490817042|\n",
      "|[1.5,2.0,0.0,0.0,...|     12.46|12.270421519701598|\n",
      "|[1.5,2.0,0.0,1.0,...|     11.59|15.712652262079976|\n",
      "|[1.5,2.0,1.0,0.0,...|     11.17| 9.886895796207252|\n",
      "|[1.58,2.0,0.0,1.0...|     13.42|14.002291755087613|\n",
      "|[1.63,2.0,1.0,0.0...|     11.87|10.306136502164064|\n",
      "|[1.8,2.0,1.0,0.0,...|     12.43|10.854374348415279|\n",
      "|[2.0,2.0,0.0,1.0,...|     22.67| 17.32511651576002|\n",
      "|[2.0,2.0,0.0,1.0,...|     17.89|17.025111326085867|\n",
      "|[2.0,2.0,0.0,1.0,...|     10.34|15.656766917853002|\n",
      "|[2.0,2.0,1.0,0.0,...|     11.38|11.499360049887295|\n",
      "|[2.0,2.0,1.0,0.0,...|     12.26|11.499360049887295|\n",
      "|[2.0,2.0,1.0,0.0,...|     14.52|11.499360049887295|\n",
      "|[2.0,2.0,1.0,1.0,...|     10.63| 15.70992482115023|\n",
      "+--------------------+----------+------------------+\n",
      "only showing top 20 rows\n",
      "\n"
     ]
    }
   ],
   "source": [
    "#final comparition\n",
    "pred_results.predictions.show()"
   ]
  },
  {
   "cell_type": "code",
   "execution_count": 20,
   "metadata": {
    "application/vnd.databricks.v1+cell": {
     "cellMetadata": {
      "byteLimit": 2048000,
      "rowLimit": 10000
     },
     "inputWidgets": {},
     "nuid": "f654af9f-2ecd-4f8b-b9b6-dfc432da74ec",
     "showTitle": false,
     "title": ""
    }
   },
   "outputs": [
    {
     "data": {
      "text/plain": [
       "0.5675288613148477"
      ]
     },
     "execution_count": 20,
     "metadata": {},
     "output_type": "execute_result"
    }
   ],
   "source": [
    "pred_results.r2"
   ]
  },
  {
   "cell_type": "code",
   "execution_count": 21,
   "metadata": {
    "application/vnd.databricks.v1+cell": {
     "cellMetadata": {
      "byteLimit": 2048000,
      "rowLimit": 10000
     },
     "inputWidgets": {},
     "nuid": "2f4d9c2b-b046-4ac5-843c-b0f91215aafb",
     "showTitle": false,
     "title": ""
    }
   },
   "outputs": [
    {
     "data": {
      "text/plain": [
       "(4.424743082447498, 38.4483759975644)"
      ]
     },
     "execution_count": 21,
     "metadata": {},
     "output_type": "execute_result"
    }
   ],
   "source": [
    "#performance metrics\n",
    "pred_results.meanAbsoluteError, pred_results.meanSquaredError"
   ]
  },
  {
   "cell_type": "code",
   "execution_count": 24,
   "metadata": {
    "application/vnd.databricks.v1+cell": {
     "cellMetadata": {},
     "inputWidgets": {},
     "nuid": "0bc5b57b-9fe9-4cc6-8da9-21e374e43b95",
     "showTitle": false,
     "title": ""
    }
   },
   "outputs": [
    {
     "name": "stdout",
     "output_type": "stream",
     "text": [
      "The following commands were written to file `(regressor).py`:\n",
      "regressor.save(tips)\n",
      "from pyspark.sql import SparkSession\n",
      "spark=SparkSession.builder.appName('Lr').getOrCreate()\n",
      "# File location and type\n",
      "file_location = \"tips.csv\"\n",
      "file_type = \"csv\"\n",
      "\n",
      "\n",
      "# The applied options are for CSV files. For other file types, these will be ignored.\n",
      "df = spark.read.csv(file_location,header=True,inferSchema=True)\n",
      "# File location and type\n",
      "file_location = \"tip/tips.csv\"\n",
      "file_type = \"csv\"\n",
      "\n",
      "\n",
      "# The applied options are for CSV files. For other file types, these will be ignored.\n",
      "df = spark.read.csv(file_location,header=True,inferSchema=True)\n",
      "# Create a view or table\n",
      "df.show()\n",
      "df.printSchema()\n",
      "df.columns\n",
      "### Handling Categorical Features\n",
      "from pyspark.ml.feature import StringIndexer\n",
      "indexer = StringIndexer(inputCol=\"sex\",outputCol=\"sex_index\")\n",
      "df_r=indexer.fit(df).transform(df)\n",
      "df_r.show()\n",
      "indexer = StringIndexer(inputCols=[\"smoker\",\"day\",\"time\"],outputCols=[\"smoker_index\",\"day_index\",\"time_index\"])\n",
      "df_r=indexer.fit(df_r).transform(df_r)\n",
      "df_r.show()\n",
      "df_r.columns\n",
      "#vectorassembler\n",
      "from pyspark.ml.feature import VectorAssembler\n",
      "featureassembler=VectorAssembler(inputCols=['tip','size','sex_index','smoker_index','day_index','time_index'], outputCol=\"Independent Features\")\n",
      "output = featureassembler.transform(df_r)\n",
      "output.select('Independent Features').show()\n",
      "finalized_data = output.select(\"Independent Features\", \"total_bill\")\n",
      "finalized_data.show()\n",
      "#inplement ML Linear Regression \n",
      "from pyspark.ml.regression import LinearRegression\n",
      "#train test split \n",
      "train_data,test_data=finalized_data.randomSplit([0.75,0.25])\n",
      "regressor=LinearRegression(featuresCol=\"Independent Features\", labelCol=\"total_bill\")\n",
      "regressor=regressor.fit(train_data)\n",
      "regressor.coefficients\n",
      "regressor.intercept\n",
      "#prediction\n",
      "pred_results=regressor.evaluate(test_data)\n",
      "#final comparition\n",
      "pred_results.predictions.show()\n",
      "pred_results.r2\n",
      "#performance metrics\n",
      "pred_results.meanAbsoluteError, pred_results.meanSquaredError\n",
      "regressor.save(tips)\n",
      "regressor.save(\"tips\")\n"
     ]
    }
   ],
   "source": [
    "save(regressor)"
   ]
  },
  {
   "cell_type": "code",
   "execution_count": null,
   "metadata": {},
   "outputs": [],
   "source": []
  }
 ],
 "metadata": {
  "application/vnd.databricks.v1+notebook": {
   "dashboards": [],
   "language": "python",
   "notebookMetadata": {
    "pythonIndentUnit": 4
   },
   "notebookName": "2024-03-03 - DBFS Example",
   "widgets": {}
  },
  "kernelspec": {
   "display_name": "bg",
   "language": "python",
   "name": "bg"
  },
  "language_info": {
   "codemirror_mode": {
    "name": "ipython",
    "version": 3
   },
   "file_extension": ".py",
   "mimetype": "text/x-python",
   "name": "python",
   "nbconvert_exporter": "python",
   "pygments_lexer": "ipython3",
   "version": "3.10.0"
  }
 },
 "nbformat": 4,
 "nbformat_minor": 4
}
