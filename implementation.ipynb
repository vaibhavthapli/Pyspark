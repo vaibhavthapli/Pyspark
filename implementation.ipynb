{
 "cells": [
  {
   "cell_type": "code",
   "execution_count": 1,
   "id": "f9f27da9-394c-49ad-b6ce-e34b1c6e1eea",
   "metadata": {},
   "outputs": [],
   "source": [
    "from pyspark.sql import SparkSession\n",
    "spark=SparkSession.builder.appName('Missing').getOrCreate()"
   ]
  },
  {
   "cell_type": "code",
   "execution_count": 2,
   "id": "46b56fe5-93f5-4ea3-ba7f-e51dafd35a1b",
   "metadata": {},
   "outputs": [],
   "source": [
    "## Read The Dataset\n",
    "training = spark.read.csv('test2.csv',header=True,inferSchema=True)"
   ]
  },
  {
   "cell_type": "code",
   "execution_count": 3,
   "id": "66b31be6-8b72-4be1-bdf1-b5ce5ab3a3d6",
   "metadata": {},
   "outputs": [
    {
     "name": "stdout",
     "output_type": "stream",
     "text": [
      "+-------+---+----------+------+\n",
      "|   Name|Age|Experience|Salary|\n",
      "+-------+---+----------+------+\n",
      "|Vaibhav| 26|         3| 30000|\n",
      "|  Sunny| 30|         4| 35000|\n",
      "|  Rohit| 25|         8| 50000|\n",
      "|   Paul| 24|         2| 20000|\n",
      "| Harsha| 21|         1| 15000|\n",
      "|Shubham| 23|         2| 18000|\n",
      "| Mahesh| 24|         2| 40000|\n",
      "+-------+---+----------+------+\n",
      "\n"
     ]
    }
   ],
   "source": [
    "training.show()"
   ]
  },
  {
   "cell_type": "code",
   "execution_count": 4,
   "id": "b53cd57e-9b33-4473-8294-1b8cae7e1020",
   "metadata": {},
   "outputs": [
    {
     "name": "stdout",
     "output_type": "stream",
     "text": [
      "root\n",
      " |-- Name: string (nullable = true)\n",
      " |-- Age: integer (nullable = true)\n",
      " |-- Experience: integer (nullable = true)\n",
      " |-- Salary: integer (nullable = true)\n",
      "\n"
     ]
    }
   ],
   "source": [
    "training.printSchema()"
   ]
  },
  {
   "cell_type": "code",
   "execution_count": 5,
   "id": "b596918f-4d80-4b27-8c07-2815c710994f",
   "metadata": {},
   "outputs": [
    {
     "data": {
      "text/plain": [
       "['Name', 'Age', 'Experience', 'Salary']"
      ]
     },
     "execution_count": 5,
     "metadata": {},
     "output_type": "execute_result"
    }
   ],
   "source": [
    "training.columns"
   ]
  },
  {
   "cell_type": "markdown",
   "id": "b8f951f5-80ff-47ef-ac7f-4b3583867f78",
   "metadata": {},
   "source": [
    "[Age,Experience]------> new feature-----> independent feature"
   ]
  },
  {
   "cell_type": "code",
   "execution_count": 9,
   "id": "8fecd402-9690-4fdb-8fcf-51251184e66b",
   "metadata": {},
   "outputs": [],
   "source": [
    "from pyspark.ml.feature import VectorAssembler\n",
    "featureassembler=VectorAssembler(inputCols=[\"Age\",\"Experience\"],outputCol=\"Independent Features\")"
   ]
  },
  {
   "cell_type": "code",
   "execution_count": 10,
   "id": "f7ca14e8-d40b-4b12-9849-5aee4955c10e",
   "metadata": {},
   "outputs": [],
   "source": [
    "output = featureassembler.transform(training)\n"
   ]
  },
  {
   "cell_type": "code",
   "execution_count": 11,
   "id": "97586e25-69a4-4eac-90d2-c6d0616a0460",
   "metadata": {},
   "outputs": [
    {
     "name": "stdout",
     "output_type": "stream",
     "text": [
      "+-------+---+----------+------+--------------------+\n",
      "|   Name|Age|Experience|Salary|Independent Features|\n",
      "+-------+---+----------+------+--------------------+\n",
      "|Vaibhav| 26|         3| 30000|          [26.0,3.0]|\n",
      "|  Sunny| 30|         4| 35000|          [30.0,4.0]|\n",
      "|  Rohit| 25|         8| 50000|          [25.0,8.0]|\n",
      "|   Paul| 24|         2| 20000|          [24.0,2.0]|\n",
      "| Harsha| 21|         1| 15000|          [21.0,1.0]|\n",
      "|Shubham| 23|         2| 18000|          [23.0,2.0]|\n",
      "| Mahesh| 24|         2| 40000|          [24.0,2.0]|\n",
      "+-------+---+----------+------+--------------------+\n",
      "\n"
     ]
    }
   ],
   "source": [
    "output.show()"
   ]
  },
  {
   "cell_type": "code",
   "execution_count": 12,
   "id": "d5b2ec08-c304-447a-8494-50e9f464474f",
   "metadata": {},
   "outputs": [
    {
     "data": {
      "text/plain": [
       "['Name', 'Age', 'Experience', 'Salary', 'Independent Features']"
      ]
     },
     "execution_count": 12,
     "metadata": {},
     "output_type": "execute_result"
    }
   ],
   "source": [
    "output.columns"
   ]
  },
  {
   "cell_type": "code",
   "execution_count": 13,
   "id": "475df2f4-c48d-45bb-8764-8e46aa8e4d1e",
   "metadata": {},
   "outputs": [
    {
     "name": "stdout",
     "output_type": "stream",
     "text": [
      "+--------------------+------+\n",
      "|Independent Features|Salary|\n",
      "+--------------------+------+\n",
      "|          [26.0,3.0]| 30000|\n",
      "|          [30.0,4.0]| 35000|\n",
      "|          [25.0,8.0]| 50000|\n",
      "|          [24.0,2.0]| 20000|\n",
      "|          [21.0,1.0]| 15000|\n",
      "|          [23.0,2.0]| 18000|\n",
      "|          [24.0,2.0]| 40000|\n",
      "+--------------------+------+\n",
      "\n"
     ]
    }
   ],
   "source": [
    "finalized_data=output.select(\"Independent Features\", \"Salary\")\n",
    "finalized_data.show()"
   ]
  },
  {
   "cell_type": "code",
   "execution_count": 14,
   "id": "63b5516c-f795-4fd1-be1f-b2f2ec9feded",
   "metadata": {},
   "outputs": [],
   "source": [
    "#inplement ML Algo \n",
    "from pyspark.ml.regression import LinearRegression\n",
    "#train test split \n",
    "train_data,test_data=finalized_data.randomSplit([0.75,0.25])\n",
    "regressor=LinearRegression(featuresCol=\"Independent Features\", labelCol=\"Salary\")\n",
    "regressor=regressor.fit(train_data)"
   ]
  },
  {
   "cell_type": "code",
   "execution_count": 16,
   "id": "25f4a561-816b-4ace-a0b4-251269668910",
   "metadata": {},
   "outputs": [
    {
     "data": {
      "text/plain": [
       "DenseVector([1902.0979, 3636.3636])"
      ]
     },
     "execution_count": 16,
     "metadata": {},
     "output_type": "execute_result"
    }
   ],
   "source": [
    "### Coefficients\n",
    "regressor.coefficients"
   ]
  },
  {
   "cell_type": "code",
   "execution_count": 17,
   "id": "c5b849ad-da89-40cc-8e18-d4272ebedfa6",
   "metadata": {},
   "outputs": [
    {
     "data": {
      "text/plain": [
       "-27174.825174827114"
      ]
     },
     "execution_count": 17,
     "metadata": {},
     "output_type": "execute_result"
    }
   ],
   "source": [
    "#### Intercepts\n",
    "regressor.intercept"
   ]
  },
  {
   "cell_type": "code",
   "execution_count": 19,
   "id": "00dde363-4edb-4e3b-90a7-3f386fc7d348",
   "metadata": {},
   "outputs": [],
   "source": [
    "#prediction\n",
    "pred_results=regressor.evaluate(test_data)"
   ]
  },
  {
   "cell_type": "code",
   "execution_count": 21,
   "id": "f2eca340-1e90-4150-9e6f-acf7e581e8af",
   "metadata": {},
   "outputs": [
    {
     "name": "stdout",
     "output_type": "stream",
     "text": [
      "+--------------------+------+------------------+\n",
      "|Independent Features|Salary|        prediction|\n",
      "+--------------------+------+------------------+\n",
      "|          [21.0,1.0]| 15000|16405.594405594158|\n",
      "|          [30.0,4.0]| 35000| 44433.56643356687|\n",
      "+--------------------+------+------------------+\n",
      "\n"
     ]
    }
   ],
   "source": [
    "#prediction\n",
    "pred_results.predictions.show()"
   ]
  },
  {
   "cell_type": "code",
   "execution_count": 22,
   "id": "5e549d20-dc8f-4e00-81f5-6a8e91ad32d8",
   "metadata": {},
   "outputs": [
    {
     "data": {
      "text/plain": [
       "(5419.580419580514, 45483935.644778565)"
      ]
     },
     "execution_count": 22,
     "metadata": {},
     "output_type": "execute_result"
    }
   ],
   "source": [
    "pred_results.meanAbsoluteError, pred_results.meanSquaredError"
   ]
  },
  {
   "cell_type": "code",
   "execution_count": null,
   "id": "0db0ba90-8d06-4e6c-840b-fc67f81ac166",
   "metadata": {},
   "outputs": [],
   "source": []
  }
 ],
 "metadata": {
  "kernelspec": {
   "display_name": "bg",
   "language": "python",
   "name": "bg"
  },
  "language_info": {
   "codemirror_mode": {
    "name": "ipython",
    "version": 3
   },
   "file_extension": ".py",
   "mimetype": "text/x-python",
   "name": "python",
   "nbconvert_exporter": "python",
   "pygments_lexer": "ipython3",
   "version": "3.10.0"
  }
 },
 "nbformat": 4,
 "nbformat_minor": 5
}
